{
 "cells": [
  {
   "cell_type": "code",
   "execution_count": 1,
   "id": "8083d2f2",
   "metadata": {
    "_cell_guid": "b1076dfc-b9ad-4769-8c92-a6c4dae69d19",
    "_uuid": "8f2839f25d086af736a60e9eeb907d3b93b6e0e5",
    "execution": {
     "iopub.execute_input": "2021-09-30T18:04:45.667999Z",
     "iopub.status.busy": "2021-09-30T18:04:45.666487Z",
     "iopub.status.idle": "2021-09-30T18:04:49.112745Z",
     "shell.execute_reply": "2021-09-30T18:04:49.113161Z",
     "shell.execute_reply.started": "2021-09-30T15:47:58.401488Z"
    },
    "papermill": {
     "duration": 3.468293,
     "end_time": "2021-09-30T18:04:49.113402",
     "exception": false,
     "start_time": "2021-09-30T18:04:45.645109",
     "status": "completed"
    },
    "tags": []
   },
   "outputs": [
    {
     "data": {
      "text/html": [
       "<style type='text/css'>\n",
       ".datatable table.frame { margin-bottom: 0; }\n",
       ".datatable table.frame thead { border-bottom: none; }\n",
       ".datatable table.frame tr.coltypes td {  color: #FFFFFF;  line-height: 6px;  padding: 0 0.5em;}\n",
       ".datatable .bool    { background: #DDDD99; }\n",
       ".datatable .object  { background: #565656; }\n",
       ".datatable .int     { background: #5D9E5D; }\n",
       ".datatable .float   { background: #4040CC; }\n",
       ".datatable .str     { background: #CC4040; }\n",
       ".datatable .time    { background: #40CC40; }\n",
       ".datatable .row_index {  background: var(--jp-border-color3);  border-right: 1px solid var(--jp-border-color0);  color: var(--jp-ui-font-color3);  font-size: 9px;}\n",
       ".datatable .frame tbody td { text-align: left; }\n",
       ".datatable .frame tr.coltypes .row_index {  background: var(--jp-border-color0);}\n",
       ".datatable th:nth-child(2) { padding-left: 12px; }\n",
       ".datatable .hellipsis {  color: var(--jp-cell-editor-border-color);}\n",
       ".datatable .vellipsis {  background: var(--jp-layout-color0);  color: var(--jp-cell-editor-border-color);}\n",
       ".datatable .na {  color: var(--jp-cell-editor-border-color);  font-size: 80%;}\n",
       ".datatable .sp {  opacity: 0.25;}\n",
       ".datatable .footer { font-size: 9px; }\n",
       ".datatable .frame_dimensions {  background: var(--jp-border-color3);  border-top: 1px solid var(--jp-border-color0);  color: var(--jp-ui-font-color3);  display: inline-block;  opacity: 0.6;  padding: 1px 10px 1px 5px;}\n",
       "</style>\n"
      ],
      "text/plain": [
       "<IPython.core.display.HTML object>"
      ]
     },
     "metadata": {},
     "output_type": "display_data"
    },
    {
     "name": "stdout",
     "output_type": "stream",
     "text": [
      "/kaggle/input/tabular-playground-series-sep-2021/train.csv\n",
      "/kaggle/input/tabular-playground-series-sep-2021/test.csv\n",
      "/kaggle/input/tabular-playground-series-sep-2021/sample_solution.csv\n"
     ]
    }
   ],
   "source": [
    "import numpy as np\n",
    "import pandas as pd \n",
    "from sklearn.model_selection import train_test_split, KFold\n",
    "from sklearn.preprocessing import MinMaxScaler\n",
    "from sklearn.metrics import roc_auc_score\n",
    "\n",
    "import catboost\n",
    "import lightgbm as lgb\n",
    "import sklearn\n",
    "\n",
    "import optuna\n",
    "from optuna.samplers import TPESampler\n",
    "\n",
    "import os\n",
    "for dirname, _, filenames in os.walk('/kaggle/input'):\n",
    "    for filename in filenames:\n",
    "        print(os.path.join(dirname, filename))"
   ]
  },
  {
   "cell_type": "markdown",
   "id": "452711f5",
   "metadata": {
    "papermill": {
     "duration": 0.018917,
     "end_time": "2021-09-30T18:04:49.152225",
     "exception": false,
     "start_time": "2021-09-30T18:04:49.133308",
     "status": "completed"
    },
    "tags": []
   },
   "source": [
    "### Notes\n",
    "\n",
    "For tabular data, I believe that two of the main reasons for an increase in model accuracy are feature engineering, and creating additional forms of data that your model can not find on its own.\n",
    "\n",
    "For example, one column may correspond to group_id. And maybe some groups are more likely to have a claim value of 1 versus 0. Given that there are so many different IDs and they are in no particular order, it would be difficult for an ML model to determine this by itself. If we created an additional column with the probability that each particular group_id was to have a claim value of 1, then this would be much easier for the model to interpret. \n",
    "\n",
    "Given that we do not know what each column corresponds to in this dataset, it will be difficult to perform\n",
    "feature engineering on this set.\n",
    "\n",
    "### Versions\n",
    "\n",
    "- v1: Baseline - 0.790\n",
    "- v3: Added Optuna Hyperparameter Optimizer - 0.791\n",
    "- v4: Training on all data + increased range of hyperparameters(overfitting) - 0.776\n",
    "- v5: Reduced hyperparameter range(still overfitting) - 0.783\n",
    "- v6: Added hold-out set - 0.791\n",
    "- v7: Setting new seed + Feature Importance - 0.793\n",
    "- v11: Leave empty values as NAN/null - 0.802\n",
    "- v12: Added NAN count feature - 0.812\n",
    "- v13: 5-fold cross validation - 0.813\n",
    "- v14: 10-fold cross validation - 0.813\n",
    "- v15: Added skew/std of row - 0.813\n",
    "- v16: Added \"top-mean\" - 0.814\n",
    "- v17: Tested some features - 0.813\n",
    "- v19: Change seed - 0.814\n",
    "- v21: Cat-Boost + LGBM 10-fold - 0.814\n",
    "- v22: Just Cat-Boost - 0.814\n",
    "- v23: Removed Scalar + (Cat-Boost/LGBM 10-fold) - 0.817\n",
    "- v25: Changed params + Seed - 0.816\n",
    "- v26: 20-fold v25 - 0.817\n",
    "- v27: added mad feature - 0.817\n",
    "- V28: Changed how feats are calculated + Added pct_change() - 0.816\n",
    "- V29: Removed PCT change - 0.817\n",
    "- V30: Added Quantile + STD NAN's - 0.817\n",
    "- V31: Seed + Removed 1 Feature - \n",
    "\n",
    "### Changes\n",
    "\n",
    "At this point I am looking for a strong combination of parameters for a 10-fold catboost and 10-fold Lightgbm combined."
   ]
  },
  {
   "cell_type": "markdown",
   "id": "f9aecf1f",
   "metadata": {
    "papermill": {
     "duration": 0.01903,
     "end_time": "2021-09-30T18:04:49.190228",
     "exception": false,
     "start_time": "2021-09-30T18:04:49.171198",
     "status": "completed"
    },
    "tags": []
   },
   "source": [
    "### Read and Train_Test_Split Data\n",
    "\n",
    "Make the train_test_split before filling in for missing values, as we do not want any data leakage into the validation set!"
   ]
  },
  {
   "cell_type": "code",
   "execution_count": 2,
   "id": "795ca45a",
   "metadata": {
    "execution": {
     "iopub.execute_input": "2021-09-30T18:04:49.229665Z",
     "iopub.status.busy": "2021-09-30T18:04:49.227444Z",
     "iopub.status.idle": "2021-09-30T18:05:29.876077Z",
     "shell.execute_reply": "2021-09-30T18:05:29.876694Z",
     "shell.execute_reply.started": "2021-09-30T15:48:02.020964Z"
    },
    "papermill": {
     "duration": 40.669535,
     "end_time": "2021-09-30T18:05:29.876878",
     "exception": false,
     "start_time": "2021-09-30T18:04:49.207343",
     "status": "completed"
    },
    "tags": []
   },
   "outputs": [
    {
     "name": "stdout",
     "output_type": "stream",
     "text": [
      "(957919, 118)\n",
      "(957919,)\n"
     ]
    }
   ],
   "source": [
    "#setting a seed for reproducability\n",
    "seed = 1380\n",
    "\n",
    "#reading training data\n",
    "train_df = pd.read_csv('../input/tabular-playground-series-sep-2021/train.csv')\n",
    "train_df_labels = train_df['claim']\n",
    "train_df = train_df.drop(columns=['claim','id'],axis=1)\n",
    "\n",
    "#reading test_data\n",
    "test_df = pd.read_csv('../input/tabular-playground-series-sep-2021/test.csv')\n",
    "submission_df = test_df['id'].to_frame()\n",
    "test_df = test_df.drop(columns=['id'], axis=1)\n",
    "\n",
    "print(train_df.shape)\n",
    "print(train_df_labels.shape)"
   ]
  },
  {
   "cell_type": "markdown",
   "id": "3f659241",
   "metadata": {
    "papermill": {
     "duration": 0.016743,
     "end_time": "2021-09-30T18:05:29.911792",
     "exception": false,
     "start_time": "2021-09-30T18:05:29.895049",
     "status": "completed"
    },
    "tags": []
   },
   "source": [
    "### Filling in Missing Values\n",
    "\n",
    "As we can see from the first cell below there are plenty of missing values across the columns. It would be wise to analyze each column individually and find out what the best value the replace missing values would be, or to even replace the missing values at all.\n",
    "\n",
    "In some cases this would be the mean, median, mode, or even an value associated with another column. \n",
    "\n",
    "After some testing, leaving the null values as null worked best. "
   ]
  },
  {
   "cell_type": "code",
   "execution_count": 3,
   "id": "45741a80",
   "metadata": {
    "execution": {
     "iopub.execute_input": "2021-09-30T18:05:29.950540Z",
     "iopub.status.busy": "2021-09-30T18:05:29.949721Z",
     "iopub.status.idle": "2021-09-30T18:05:30.147560Z",
     "shell.execute_reply": "2021-09-30T18:05:30.147169Z",
     "shell.execute_reply.started": "2021-09-30T15:48:52.417549Z"
    },
    "papermill": {
     "duration": 0.218813,
     "end_time": "2021-09-30T18:05:30.147680",
     "exception": false,
     "start_time": "2021-09-30T18:05:29.928867",
     "status": "completed"
    },
    "tags": []
   },
   "outputs": [
    {
     "data": {
      "text/plain": [
       "f31     15678\n",
       "f46     15633\n",
       "f24     15630\n",
       "f83     15627\n",
       "f68     15619\n",
       "        ...  \n",
       "f72     15219\n",
       "f118    15212\n",
       "f104    15198\n",
       "f2      15190\n",
       "f102    15168\n",
       "Length: 118, dtype: int64"
      ]
     },
     "execution_count": 3,
     "metadata": {},
     "output_type": "execute_result"
    }
   ],
   "source": [
    "train_df.isnull().sum(axis = 0).sort_values(ascending=False)"
   ]
  },
  {
   "cell_type": "markdown",
   "id": "cd4be0e8",
   "metadata": {
    "papermill": {
     "duration": 0.017016,
     "end_time": "2021-09-30T18:05:30.181852",
     "exception": false,
     "start_time": "2021-09-30T18:05:30.164836",
     "status": "completed"
    },
    "tags": []
   },
   "source": [
    "### Feature engineering\n",
    "\n",
    "Testing out adding a NAN count for each row as per reccomendation from this discussion thread --> [Add Number of Nans in A Row as a Feature](https://www.kaggle.com/c/tabular-playground-series-sep-2021/discussion/270206)"
   ]
  },
  {
   "cell_type": "code",
   "execution_count": 4,
   "id": "87fcad35",
   "metadata": {
    "execution": {
     "iopub.execute_input": "2021-09-30T18:05:30.228943Z",
     "iopub.status.busy": "2021-09-30T18:05:30.228243Z",
     "iopub.status.idle": "2021-09-30T18:08:16.578435Z",
     "shell.execute_reply": "2021-09-30T18:08:16.577920Z",
     "shell.execute_reply.started": "2021-09-30T15:48:52.654262Z"
    },
    "papermill": {
     "duration": 166.379617,
     "end_time": "2021-09-30T18:08:16.578585",
     "exception": false,
     "start_time": "2021-09-30T18:05:30.198968",
     "status": "completed"
    },
    "tags": []
   },
   "outputs": [],
   "source": [
    "#train_df features\n",
    "a = train_df.abs().sum(axis=1)\n",
    "b = train_df.sem(axis=1)\n",
    "c = train_df.max(axis=1)\n",
    "d = train_df.min(axis=1)\n",
    "e = train_df.std(axis=1)\n",
    "f = train_df.skew(axis=1)\n",
    "g = train_df.mean(axis=1)\n",
    "h = train_df[[\"f40\",\"f70\",\"f47\",\"f34\",\"f35\",\"f45\"]].mean(axis=1)\n",
    "i = train_df.isnull().sum(axis=1)\n",
    "j = train_df.mad(axis=1)\n",
    "k = train_df.quantile(axis=1)\n",
    "l = train_df.isnull().std(axis=1)\n",
    "\n",
    "train_df['abs_sum'] = a\n",
    "train_df['sem'] = b\n",
    "train_df['max'] = c\n",
    "train_df['min'] = d\n",
    "train_df['std'] = e\n",
    "train_df['skew'] = f\n",
    "train_df['mean'] = g\n",
    "train_df[\"top_mean\"] = h\n",
    "train_df['NANs'] = i\n",
    "train_df['mad'] = j\n",
    "train_df['quantile'] = k\n",
    "train_df['NANs_std'] = l\n",
    "\n",
    "#test_df features\n",
    "a = test_df.abs().sum(axis=1)\n",
    "b = test_df.sem(axis=1)\n",
    "c = test_df.max(axis=1)\n",
    "d = test_df.min(axis=1)\n",
    "e = test_df.std(axis=1)\n",
    "f = test_df.skew(axis=1)\n",
    "g = test_df.mean(axis=1)\n",
    "h = test_df[[\"f40\",\"f70\",\"f47\",\"f34\",\"f35\",\"f45\"]].mean(axis=1)\n",
    "i = test_df.isnull().sum(axis=1)\n",
    "j = test_df.mad(axis=1)\n",
    "k = test_df.quantile(axis=1)\n",
    "l = test_df.isnull().std(axis=1)\n",
    "\n",
    "test_df['abs_sum'] = a\n",
    "test_df['sem'] = b\n",
    "test_df['max'] = c\n",
    "test_df['min'] = d\n",
    "test_df['std'] = e\n",
    "test_df['skew'] = f\n",
    "test_df['mean'] = g\n",
    "test_df[\"top_mean\"] = h\n",
    "test_df['NANs'] = i\n",
    "test_df['mad'] = j\n",
    "test_df['quantile'] = k\n",
    "test_df['NANs_std'] = l\n",
    "\n",
    "del a,b,c,d,e,f,g,h,i,j,k,l"
   ]
  },
  {
   "cell_type": "markdown",
   "id": "8fac049e",
   "metadata": {
    "papermill": {
     "duration": 0.017834,
     "end_time": "2021-09-30T18:08:16.615504",
     "exception": false,
     "start_time": "2021-09-30T18:08:16.597670",
     "status": "completed"
    },
    "tags": []
   },
   "source": [
    "### Scaling Value between 0-1\n",
    "\n",
    "MinMaxScaler() - Transforms all of the columns into a range between 0-1\n",
    "\n",
    "We are fitting the range of this on the training data, and then using that scaler to scale both the training and test datasets.\n",
    "\n",
    "When we do fit it to the test data, we may see values that are above and below the max/min range of the training data and so we are going to map any value below zero to zero, and any values above one to one."
   ]
  },
  {
   "cell_type": "code",
   "execution_count": 5,
   "id": "808cae88",
   "metadata": {
    "execution": {
     "iopub.execute_input": "2021-09-30T18:08:16.654660Z",
     "iopub.status.busy": "2021-09-30T18:08:16.653840Z",
     "iopub.status.idle": "2021-09-30T18:08:16.657245Z",
     "shell.execute_reply": "2021-09-30T18:08:16.657813Z",
     "shell.execute_reply.started": "2021-09-30T15:52:09.184756Z"
    },
    "papermill": {
     "duration": 0.02441,
     "end_time": "2021-09-30T18:08:16.657952",
     "exception": false,
     "start_time": "2021-09-30T18:08:16.633542",
     "status": "completed"
    },
    "tags": []
   },
   "outputs": [],
   "source": [
    "#Defining and fitting minmaxscaler on train_data\n",
    "# scaler = MinMaxScaler() \n",
    "# scaler.fit(train_df)"
   ]
  },
  {
   "cell_type": "code",
   "execution_count": 6,
   "id": "a132b89f",
   "metadata": {
    "execution": {
     "iopub.execute_input": "2021-09-30T18:08:16.698760Z",
     "iopub.status.busy": "2021-09-30T18:08:16.697910Z",
     "iopub.status.idle": "2021-09-30T18:08:16.699682Z",
     "shell.execute_reply": "2021-09-30T18:08:16.700187Z",
     "shell.execute_reply.started": "2021-09-30T15:52:09.186272Z"
    },
    "papermill": {
     "duration": 0.02429,
     "end_time": "2021-09-30T18:08:16.700326",
     "exception": false,
     "start_time": "2021-09-30T18:08:16.676036",
     "status": "completed"
    },
    "tags": []
   },
   "outputs": [],
   "source": [
    "#fitting scaler and mapping outliers in test data to 0 or 1\n",
    "#keeps as pd.dataframe after scaler applied\n",
    "# train_df = pd.DataFrame(scaler.fit_transform(train_df),columns = train_df.columns)\n",
    "\n",
    "# valid_df = pd.DataFrame(scaler.fit_transform(valid_df),columns = valid_df.columns)\n",
    "\n",
    "# valid_df[valid_df < 0] = 0\n",
    "# valid_df[valid_df > 1] = 1"
   ]
  },
  {
   "cell_type": "markdown",
   "id": "6f3a3c76",
   "metadata": {
    "papermill": {
     "duration": 0.01839,
     "end_time": "2021-09-30T18:08:16.736915",
     "exception": false,
     "start_time": "2021-09-30T18:08:16.718525",
     "status": "completed"
    },
    "tags": []
   },
   "source": [
    "### Training with Optuna\n",
    "\n",
    "Found a great article here on hyperparameter optimization with Optuna. Really helps break down the functionality of each parameter.\n",
    "\n",
    "https://neptune.ai/blog/lightgbm-parameters-guide\n",
    "\n",
    "We are also using predict_proba to predict the probability of each label. We take the probability predicted that the label in equal to one, and test this against the true label to calculate roc_auc_score. See a relevant stack_overflow topic regarding this below.\n",
    "\n",
    "[Predict_Proba StackOverflow Question](https://stackoverflow.com/questions/55882873/how-predict-proba-in-sklearn-produces-two-columns-what-are-their-significance)"
   ]
  },
  {
   "cell_type": "code",
   "execution_count": 7,
   "id": "eb638363",
   "metadata": {
    "execution": {
     "iopub.execute_input": "2021-09-30T18:08:16.783826Z",
     "iopub.status.busy": "2021-09-30T18:08:16.782863Z",
     "iopub.status.idle": "2021-09-30T18:08:16.784899Z",
     "shell.execute_reply": "2021-09-30T18:08:16.785376Z",
     "shell.execute_reply.started": "2021-09-30T15:52:09.189481Z"
    },
    "papermill": {
     "duration": 0.030279,
     "end_time": "2021-09-30T18:08:16.785493",
     "exception": false,
     "start_time": "2021-09-30T18:08:16.755214",
     "status": "completed"
    },
    "tags": []
   },
   "outputs": [],
   "source": [
    "def create_model(trial):\n",
    "    num_leaves = trial.suggest_int(\"num_leaves\", 20, 40)\n",
    "    n_estimators = trial.suggest_int(\"n_estimators\", 200, 450)\n",
    "    max_depth = trial.suggest_int('max_depth', 3, 8)\n",
    "    min_child_samples = trial.suggest_int('min_child_samples', 200, 750)\n",
    "    learning_rate = trial.suggest_uniform('learning_rate', 0.10, 0.30)\n",
    "    bagging_fraction = trial.suggest_uniform('bagging_fraction', 0.50, 1.0)\n",
    "    colsample_bytree = trial.suggest_uniform('colsample_bytree', 0.50, 1.0)\n",
    "    \n",
    "        \n",
    "    model = lgb.LGBMClassifier(\n",
    "        objective='binary',\n",
    "        metric='binary_logloss',\n",
    "        num_leaves=num_leaves,\n",
    "        n_estimators=n_estimators, \n",
    "        max_depth=max_depth, \n",
    "        min_child_samples=min_child_samples, \n",
    "        learning_rate=learning_rate,\n",
    "        colsample_bytree=colsample_bytree,\n",
    "        random_state=seed\n",
    "    )\n",
    "    \n",
    "    return model\n",
    "\n",
    "def objective(trial):\n",
    "    model = create_model(trial)\n",
    "    model.fit(train_df, train_df_labels)\n",
    "    #see link in markdown above for this next line\n",
    "    score = sklearn.metrics.roc_auc_score(valid_df_labels, model.predict_proba(valid_df)[:,1])\n",
    "    return score"
   ]
  },
  {
   "cell_type": "markdown",
   "id": "3487b553",
   "metadata": {
    "papermill": {
     "duration": 0.017725,
     "end_time": "2021-09-30T18:08:16.821906",
     "exception": false,
     "start_time": "2021-09-30T18:08:16.804181",
     "status": "completed"
    },
    "tags": []
   },
   "source": [
    "It would be beneficial to test other samplers to see if they reach different model accuracies, but I have found the TPE Sampler to consistently perform well. \n",
    "\n",
    "TPESampler is based on the (Tree-structured Parzen Estimator) algorithm.\n",
    "\n",
    "In the following cell we are wanting to find the params that perform the best on the validation set, and then we will restore the best parameters and make predictions."
   ]
  },
  {
   "cell_type": "code",
   "execution_count": 8,
   "id": "974f2550",
   "metadata": {
    "execution": {
     "iopub.execute_input": "2021-09-30T18:08:16.861953Z",
     "iopub.status.busy": "2021-09-30T18:08:16.860961Z",
     "iopub.status.idle": "2021-09-30T18:08:16.863457Z",
     "shell.execute_reply": "2021-09-30T18:08:16.863046Z",
     "shell.execute_reply.started": "2021-09-30T15:52:09.191427Z"
    },
    "papermill": {
     "duration": 0.023852,
     "end_time": "2021-09-30T18:08:16.863554",
     "exception": false,
     "start_time": "2021-09-30T18:08:16.839702",
     "status": "completed"
    },
    "tags": []
   },
   "outputs": [],
   "source": [
    "# sampler = TPESampler(seed=seed)\n",
    "\n",
    "# study = optuna.create_study(direction=\"maximize\", sampler=sampler)\n",
    "# study.optimize(objective, n_trials=1)\n",
    "# params = study.best_params #getting best params from study"
   ]
  },
  {
   "cell_type": "markdown",
   "id": "019e402f",
   "metadata": {
    "papermill": {
     "duration": 0.017876,
     "end_time": "2021-09-30T18:08:16.900038",
     "exception": false,
     "start_time": "2021-09-30T18:08:16.882162",
     "status": "completed"
    },
    "tags": []
   },
   "source": [
    "Restoring the model with the best model parameters."
   ]
  },
  {
   "cell_type": "code",
   "execution_count": 9,
   "id": "1de63740",
   "metadata": {
    "execution": {
     "iopub.execute_input": "2021-09-30T18:08:16.941042Z",
     "iopub.status.busy": "2021-09-30T18:08:16.940222Z",
     "iopub.status.idle": "2021-09-30T18:08:16.942739Z",
     "shell.execute_reply": "2021-09-30T18:08:16.943231Z",
     "shell.execute_reply.started": "2021-09-30T15:52:09.193907Z"
    },
    "papermill": {
     "duration": 0.02456,
     "end_time": "2021-09-30T18:08:16.943347",
     "exception": false,
     "start_time": "2021-09-30T18:08:16.918787",
     "status": "completed"
    },
    "tags": []
   },
   "outputs": [],
   "source": [
    "# params = {'num_leaves': 28,\n",
    "#           'n_estimators': 376,\n",
    "#           'max_depth': 8,\n",
    "#           'min_child_samples': 202,\n",
    "#           'learning_rate': 0.11682677767413432,\n",
    "#           'bagging_fraction': 0.5036513634677549,\n",
    "#           'colsample_bytree': 0.7519268943195143\n",
    "#          }\n",
    "\n",
    "# model = lgb.LGBMClassifier(**params)\n",
    "# model.fit(train_df, train_df_labels)"
   ]
  },
  {
   "cell_type": "markdown",
   "id": "5fe7cd61",
   "metadata": {
    "papermill": {
     "duration": 0.017971,
     "end_time": "2021-09-30T18:08:16.979838",
     "exception": false,
     "start_time": "2021-09-30T18:08:16.961867",
     "status": "completed"
    },
    "tags": []
   },
   "source": [
    "### Training with Cross-Fold Validation\n",
    "\n",
    "This is the third option I have for training an LGBM in this notebook. I would like to see if training either a 5-fold or 10-fold model will increase the accuracy of the model. \n",
    "\n",
    "I am using Sckit-Learn to create the folds, and then training based on the rows included in that specific fold. Cross-validation often makes models perform better on new data so fingers crossed!\n",
    "\n",
    "UPDATE:\n",
    "\n",
    "I have added a catboost model to pair with the lgb model, and I am now using a 10-fold cross-validation strategy paired with a catboost and lgbm model trained on each fold."
   ]
  },
  {
   "cell_type": "code",
   "execution_count": 10,
   "id": "446f3064",
   "metadata": {
    "execution": {
     "iopub.execute_input": "2021-09-30T18:08:17.019814Z",
     "iopub.status.busy": "2021-09-30T18:08:17.019035Z",
     "iopub.status.idle": "2021-09-30T18:08:17.021309Z",
     "shell.execute_reply": "2021-09-30T18:08:17.021894Z",
     "shell.execute_reply.started": "2021-09-30T15:52:09.195871Z"
    },
    "papermill": {
     "duration": 0.024202,
     "end_time": "2021-09-30T18:08:17.022013",
     "exception": false,
     "start_time": "2021-09-30T18:08:16.997811",
     "status": "completed"
    },
    "tags": []
   },
   "outputs": [],
   "source": [
    "fold_models = []\n",
    "n_folds = 20\n",
    "folds = KFold(n_splits = n_folds, shuffle = True)"
   ]
  },
  {
   "cell_type": "code",
   "execution_count": 11,
   "id": "d7e00eb9",
   "metadata": {
    "execution": {
     "iopub.execute_input": "2021-09-30T18:08:17.068444Z",
     "iopub.status.busy": "2021-09-30T18:08:17.067866Z",
     "iopub.status.idle": "2021-09-30T20:04:09.716138Z",
     "shell.execute_reply": "2021-09-30T20:04:09.717176Z",
     "shell.execute_reply.started": "2021-09-30T15:52:09.199330Z"
    },
    "papermill": {
     "duration": 6952.67721,
     "end_time": "2021-09-30T20:04:09.717396",
     "exception": false,
     "start_time": "2021-09-30T18:08:17.040186",
     "status": "completed"
    },
    "tags": []
   },
   "outputs": [
    {
     "name": "stdout",
     "output_type": "stream",
     "text": [
      "Starting Fold:  1\n",
      "[LightGBM] [Warning] bagging_fraction is set=0.5036513634677549, subsample=1.0 will be ignored. Current value: bagging_fraction=0.5036513634677549\n",
      "Starting Fold:  2\n",
      "Starting Fold:  3\n",
      "Starting Fold:  4\n",
      "Starting Fold:  5\n",
      "Starting Fold:  6\n",
      "Starting Fold:  7\n",
      "Starting Fold:  8\n",
      "Starting Fold:  9\n",
      "Starting Fold:  10\n",
      "Starting Fold:  11\n",
      "Starting Fold:  12\n",
      "Starting Fold:  13\n",
      "Starting Fold:  14\n",
      "Starting Fold:  15\n",
      "Starting Fold:  16\n",
      "Starting Fold:  17\n",
      "Starting Fold:  18\n",
      "Starting Fold:  19\n",
      "Starting Fold:  20\n"
     ]
    }
   ],
   "source": [
    "i = 1\n",
    "for train_index, test_index in folds.split(train_df):\n",
    "    fold_train_df, fold_valid_df = train_df.iloc[train_index,:], train_df.iloc[test_index,:]\n",
    "    #ravel creates a flattened array\n",
    "    fold_train_labels, fold_test_labels = train_df_labels.iloc[train_index].values.ravel(), \\\n",
    "                                          train_df_labels.iloc[test_index].values.ravel()\n",
    "        \n",
    "    lgb_params = {'num_leaves': 28,\n",
    "                  'n_estimators': 376,\n",
    "                  'max_depth': 8,\n",
    "                  'min_child_samples': 202,\n",
    "                  'learning_rate': 0.11682677767413432,\n",
    "                  'bagging_fraction': 0.5036513634677549,\n",
    "                  'colsample_bytree': 0.7519268943195143\n",
    "                 }\n",
    "\n",
    "    cat_params = {'iterations': 15585, \n",
    "                  'objective': 'CrossEntropy', \n",
    "                  'bootstrap_type': 'Bernoulli', \n",
    "                  'od_wait': 1144, \n",
    "                  'learning_rate': 0.023575206684596582, \n",
    "                  'reg_lambda': 36.30433203563295, \n",
    "                  'random_strength': 43.75597655616195, \n",
    "                  'depth': 7, \n",
    "                  'min_data_in_leaf': 11, \n",
    "                  'leaf_estimation_iterations': 1, \n",
    "                  'subsample': 0.8227911142845009,\n",
    "                  'task_type' : 'GPU',\n",
    "                  'devices' : '0',\n",
    "                  'verbose' : 0\n",
    "                 }\n",
    "    \n",
    "    print(\"Starting Fold: \", i)\n",
    "    i+=1\n",
    "        \n",
    "    lgbm_model = lgb.LGBMClassifier(**lgb_params)\n",
    "    lgbm_model.fit(fold_train_df, fold_train_labels)\n",
    "    \n",
    "    cat_model = catboost.CatBoostClassifier(**cat_params)\n",
    "    cat_model.fit(fold_train_df, fold_train_labels)\n",
    "    \n",
    "    fold_models.append(lgbm_model)\n",
    "    fold_models.append(cat_model)"
   ]
  },
  {
   "cell_type": "markdown",
   "id": "548388f2",
   "metadata": {
    "papermill": {
     "duration": 0.049145,
     "end_time": "2021-09-30T20:04:09.808141",
     "exception": false,
     "start_time": "2021-09-30T20:04:09.758996",
     "status": "completed"
    },
    "tags": []
   },
   "source": [
    "### Feature Importance\n",
    "\n",
    "We can use a built-in method from lgbm to plot the importance of each feature. The distribution of features in terms of importance for this dataset is relatively evenly distributed. It is often the case that a few features are highly correlated with the data and are highly weighted when determining predictions."
   ]
  },
  {
   "cell_type": "code",
   "execution_count": 12,
   "id": "f9c64870",
   "metadata": {
    "execution": {
     "iopub.execute_input": "2021-09-30T20:04:09.962456Z",
     "iopub.status.busy": "2021-09-30T20:04:09.961805Z",
     "iopub.status.idle": "2021-09-30T20:04:12.401255Z",
     "shell.execute_reply": "2021-09-30T20:04:12.400482Z",
     "shell.execute_reply.started": "2021-09-30T15:52:09.201596Z"
    },
    "papermill": {
     "duration": 2.537913,
     "end_time": "2021-09-30T20:04:12.401428",
     "exception": false,
     "start_time": "2021-09-30T20:04:09.863515",
     "status": "completed"
    },
    "tags": []
   },
   "outputs": [
    {
     "data": {
      "text/plain": [
       "<AxesSubplot:title={'center':'Feature importance'}, xlabel='Feature importance', ylabel='Features'>"
      ]
     },
     "execution_count": 12,
     "metadata": {},
     "output_type": "execute_result"
    },
    {
     "data": {
      "image/png": "[encoded data removed]",
      "text/plain": [
       "<Figure size 1008x2160 with 1 Axes>"
      ]
     },
     "metadata": {
      "needs_background": "light"
     },
     "output_type": "display_data"
    }
   ],
   "source": [
    "# lgb.plot_importance(model,figsize=(14,30))\n",
    "lgb.plot_importance(fold_models[0],figsize=(14,30))"
   ]
  },
  {
   "cell_type": "markdown",
   "id": "2e5bb9d6",
   "metadata": {
    "papermill": {
     "duration": 0.026214,
     "end_time": "2021-09-30T20:04:12.454508",
     "exception": false,
     "start_time": "2021-09-30T20:04:12.428294",
     "status": "completed"
    },
    "tags": []
   },
   "source": [
    "### Model Predictions\n",
    "\n",
    "First I am ging to read in the sample submission to make sure I am correctly formatting my true submission. I am then preproccessing the test data, making predictions, and then submitting them to an output file."
   ]
  },
  {
   "cell_type": "code",
   "execution_count": 13,
   "id": "abbd9cbb",
   "metadata": {
    "execution": {
     "iopub.execute_input": "2021-09-30T20:04:12.512686Z",
     "iopub.status.busy": "2021-09-30T20:04:12.511013Z",
     "iopub.status.idle": "2021-09-30T20:04:12.513270Z",
     "shell.execute_reply": "2021-09-30T20:04:12.513690Z",
     "shell.execute_reply.started": "2021-09-30T15:52:09.203533Z"
    },
    "papermill": {
     "duration": 0.032913,
     "end_time": "2021-09-30T20:04:12.513816",
     "exception": false,
     "start_time": "2021-09-30T20:04:12.480903",
     "status": "completed"
    },
    "tags": []
   },
   "outputs": [],
   "source": [
    "#preprocessing test_data\n",
    "# test_df = pd.read_csv('../input/tabular-playground-series-sep-2021/test.csv')\n",
    "# submission_df = test_df['id'].to_frame()\n",
    "# test_df = test_df.drop(columns=['id'], axis=0)\n",
    "\n",
    "#adding feats\n",
    "# test_df['NANs'] = test_df.isnull().sum(axis=1)\n",
    "# test_df['std'] = test_df.std(axis=1)\n",
    "# test_df['skew'] = test_df.skew(axis=1)\n",
    "# test_df['mean'] = test_df.mean(axis=1)\n",
    "# test_df[\"top_mean\"] = test_df[[\"f40\",\"f70\",\"f47\",\"f34\",\"f35\",\"f45\"]].mean(axis=1)\n",
    "\n",
    "#fitting scaler\n",
    "# test_df = pd.DataFrame(scaler.fit_transform(test_df),columns = test_df.columns)\n",
    "# test_df[test_df < 0] = 0\n",
    "# test_df[test_df > 1] = 1"
   ]
  },
  {
   "cell_type": "markdown",
   "id": "9cc6868d",
   "metadata": {
    "papermill": {
     "duration": 0.026749,
     "end_time": "2021-09-30T20:04:12.567099",
     "exception": false,
     "start_time": "2021-09-30T20:04:12.540350",
     "status": "completed"
    },
    "tags": []
   },
   "source": [
    "Again note we are taking the second column of predict_proba, as this is the probability that we think the case is of label 1."
   ]
  },
  {
   "cell_type": "code",
   "execution_count": 14,
   "id": "20a90e44",
   "metadata": {
    "execution": {
     "iopub.execute_input": "2021-09-30T20:04:12.624230Z",
     "iopub.status.busy": "2021-09-30T20:04:12.622733Z",
     "iopub.status.idle": "2021-09-30T20:04:12.624920Z",
     "shell.execute_reply": "2021-09-30T20:04:12.625296Z",
     "shell.execute_reply.started": "2021-09-30T15:52:09.205622Z"
    },
    "papermill": {
     "duration": 0.031857,
     "end_time": "2021-09-30T20:04:12.625406",
     "exception": false,
     "start_time": "2021-09-30T20:04:12.593549",
     "status": "completed"
    },
    "tags": []
   },
   "outputs": [],
   "source": [
    "# #Making predictions and creating csv\n",
    "# submission_df['claim'] = model.predict_proba(test_df)[:,1]\n",
    "# submission_df.to_csv(\"submission.csv\", index=False)\n",
    "\n",
    "# submission_df"
   ]
  },
  {
   "cell_type": "markdown",
   "id": "cf9560b8",
   "metadata": {
    "papermill": {
     "duration": 0.025907,
     "end_time": "2021-09-30T20:04:12.677567",
     "exception": false,
     "start_time": "2021-09-30T20:04:12.651660",
     "status": "completed"
    },
    "tags": []
   },
   "source": [
    "### Multi-Fold Model Predictions\n",
    "\n",
    "Predictions for unseen data with multi-fold model."
   ]
  },
  {
   "cell_type": "code",
   "execution_count": 15,
   "id": "6e51c3e0",
   "metadata": {
    "execution": {
     "iopub.execute_input": "2021-09-30T20:04:12.735730Z",
     "iopub.status.busy": "2021-09-30T20:04:12.734850Z",
     "iopub.status.idle": "2021-09-30T20:09:52.256507Z",
     "shell.execute_reply": "2021-09-30T20:09:52.256937Z",
     "shell.execute_reply.started": "2021-09-30T15:52:09.207364Z"
    },
    "papermill": {
     "duration": 339.55291,
     "end_time": "2021-09-30T20:09:52.257070",
     "exception": false,
     "start_time": "2021-09-30T20:04:12.704160",
     "status": "completed"
    },
    "tags": []
   },
   "outputs": [
    {
     "data": {
      "text/html": [
       "<div>\n",
       "<style scoped>\n",
       "    .dataframe tbody tr th:only-of-type {\n",
       "        vertical-align: middle;\n",
       "    }\n",
       "\n",
       "    .dataframe tbody tr th {\n",
       "        vertical-align: top;\n",
       "    }\n",
       "\n",
       "    .dataframe thead th {\n",
       "        text-align: right;\n",
       "    }\n",
       "</style>\n",
       "<table border=\"1\" class=\"dataframe\">\n",
       "  <thead>\n",
       "    <tr style=\"text-align: right;\">\n",
       "      <th></th>\n",
       "      <th>id</th>\n",
       "      <th>claim</th>\n",
       "    </tr>\n",
       "  </thead>\n",
       "  <tbody>\n",
       "    <tr>\n",
       "      <th>0</th>\n",
       "      <td>957919</td>\n",
       "      <td>0.585608</td>\n",
       "    </tr>\n",
       "    <tr>\n",
       "      <th>1</th>\n",
       "      <td>957920</td>\n",
       "      <td>0.116611</td>\n",
       "    </tr>\n",
       "    <tr>\n",
       "      <th>2</th>\n",
       "      <td>957921</td>\n",
       "      <td>0.625540</td>\n",
       "    </tr>\n",
       "    <tr>\n",
       "      <th>3</th>\n",
       "      <td>957922</td>\n",
       "      <td>0.131613</td>\n",
       "    </tr>\n",
       "    <tr>\n",
       "      <th>4</th>\n",
       "      <td>957923</td>\n",
       "      <td>0.144500</td>\n",
       "    </tr>\n",
       "    <tr>\n",
       "      <th>...</th>\n",
       "      <td>...</td>\n",
       "      <td>...</td>\n",
       "    </tr>\n",
       "    <tr>\n",
       "      <th>493469</th>\n",
       "      <td>1451388</td>\n",
       "      <td>0.822037</td>\n",
       "    </tr>\n",
       "    <tr>\n",
       "      <th>493470</th>\n",
       "      <td>1451389</td>\n",
       "      <td>0.104418</td>\n",
       "    </tr>\n",
       "    <tr>\n",
       "      <th>493471</th>\n",
       "      <td>1451390</td>\n",
       "      <td>0.781920</td>\n",
       "    </tr>\n",
       "    <tr>\n",
       "      <th>493472</th>\n",
       "      <td>1451391</td>\n",
       "      <td>0.128109</td>\n",
       "    </tr>\n",
       "    <tr>\n",
       "      <th>493473</th>\n",
       "      <td>1451392</td>\n",
       "      <td>0.764706</td>\n",
       "    </tr>\n",
       "  </tbody>\n",
       "</table>\n",
       "<p>493474 rows × 2 columns</p>\n",
       "</div>"
      ],
      "text/plain": [
       "             id     claim\n",
       "0        957919  0.585608\n",
       "1        957920  0.116611\n",
       "2        957921  0.625540\n",
       "3        957922  0.131613\n",
       "4        957923  0.144500\n",
       "...         ...       ...\n",
       "493469  1451388  0.822037\n",
       "493470  1451389  0.104418\n",
       "493471  1451390  0.781920\n",
       "493472  1451391  0.128109\n",
       "493473  1451392  0.764706\n",
       "\n",
       "[493474 rows x 2 columns]"
      ]
     },
     "execution_count": 15,
     "metadata": {},
     "output_type": "execute_result"
    }
   ],
   "source": [
    "all_preds = np.zeros(len(test_df))\n",
    "\n",
    "for i in range(len(fold_models)):\n",
    "    all_preds += fold_models[i].predict_proba(test_df)[:,1]\n",
    "    \n",
    "all_preds /= len(fold_models)\n",
    "submission_df['claim'] = all_preds\n",
    "submission_df.to_csv(\"submission.csv\", index=False)\n",
    "\n",
    "submission_df"
   ]
  },
  {
   "cell_type": "markdown",
   "id": "88612ab6",
   "metadata": {
    "papermill": {
     "duration": 0.026515,
     "end_time": "2021-09-30T20:09:52.310090",
     "exception": false,
     "start_time": "2021-09-30T20:09:52.283575",
     "status": "completed"
    },
    "tags": []
   },
   "source": [
    "### Final Thoughts\n",
    "\n",
    "I noticed a few of the models parameters in the test data were mapped directly to the max/min of 0 or 1. I wonder what these variables are? More exploration needed.\n",
    "\n",
    "Hopefully I find some time to improve upon this notebook. Constructive Criticism welcomed!"
   ]
  }
 ],
 "metadata": {
  "kernelspec": {
   "display_name": "Python 3",
   "language": "python",
   "name": "python3"
  },
  "language_info": {
   "codemirror_mode": {
    "name": "ipython",
    "version": 3
   },
   "file_extension": ".py",
   "mimetype": "text/x-python",
   "name": "python",
   "nbconvert_exporter": "python",
   "pygments_lexer": "ipython3",
   "version": "3.7.10"
  },
  "papermill": {
   "default_parameters": {},
   "duration": 7514.549253,
   "end_time": "2021-09-30T20:09:53.594427",
   "environment_variables": {},
   "exception": null,
   "input_path": "__notebook__.ipynb",
   "output_path": "__notebook__.ipynb",
   "parameters": {},
   "start_time": "2021-09-30T18:04:39.045174",
   "version": "2.3.3"
  }
 },
 "nbformat": 4,
 "nbformat_minor": 5
}
